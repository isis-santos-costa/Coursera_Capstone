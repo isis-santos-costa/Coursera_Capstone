{
 "cells": [
  {
   "cell_type": "markdown",
   "metadata": {},
   "source": [
    "<h2> Cᴏᴜʀsᴇʀᴀ <ins>IBM Dᴀᴛᴀ Sᴄɪᴇɴᴄᴇ Pʀᴏғᴇssɪᴏɴᴀʟ Cᴇʀᴛɪғɪᴄᴀᴛᴇ</ins></h2>\n",
    "<h3> CAPSTONE PROJECT • Week 1 </h3>"
   ]
  },
  {
   "cell_type": "markdown",
   "metadata": {},
   "source": [
    "<p><a href=\"https://www.linkedin.com/in/isiscosta/\">\n",
    "    <img align=\"left\" style=\"padding-right:8px; vertical-align:bottom\" width=88 src=\"https://media-exp1.licdn.com/dms/image/C4D03AQGt-sH4PvEknw/profile-displayphoto-shrink_400_400/0/1572132051495?e=1613001600&v=beta&t=IHHCrkKvahxIcP-3ToODJzTdI2V_f0kKBB7eGQsT2PE\">\n",
    "    </img>\n",
    "    </a><br><br><br>\n",
    "     🙂☕ <strong>Notebook created by <a href=\"https://www.linkedin.com/in/isiscosta/\">Isis Santos Costa</p>"
   ]
  },
  {
   "cell_type": "markdown",
   "metadata": {},
   "source": [
    "### Assignments\n",
    "<ol>\n",
    "    <li> Write some markdown to explain that this notebook will be mainly used for the capstone project. </li>\n",
    "    <li> Import the pandas library as pd. </li>\n",
    "    <li> Import the Numpy library as np. </li>\n",
    "    <li> Print the following the statement: Hello Capstone Project Course! </li>\n",
    "</ol>"
   ]
  },
  {
   "cell_type": "markdown",
   "metadata": {},
   "source": [
    "## Solutions"
   ]
  },
  {
   "cell_type": "markdown",
   "metadata": {},
   "source": [
    "### 1. Goal"
   ]
  },
  {
   "cell_type": "markdown",
   "metadata": {},
   "source": [
    "This notebook is part of the capstone project of the course [Applied Data Science Capstone on Coursera.](https://www.coursera.org/learn/applied-data-science-capstone/home/welcome) on [Coursera](https://www.coursera.org/)."
   ]
  },
  {
   "cell_type": "markdown",
   "metadata": {},
   "source": [
    "### 2. Pandas"
   ]
  },
  {
   "cell_type": "code",
   "execution_count": 1,
   "metadata": {},
   "outputs": [],
   "source": [
    "import pandas as pd"
   ]
  },
  {
   "cell_type": "markdown",
   "metadata": {},
   "source": [
    "### 3. Numpy"
   ]
  },
  {
   "cell_type": "code",
   "execution_count": 2,
   "metadata": {},
   "outputs": [],
   "source": [
    "import numpy as np"
   ]
  },
  {
   "cell_type": "markdown",
   "metadata": {},
   "source": [
    "### 4. Hello"
   ]
  },
  {
   "cell_type": "code",
   "execution_count": 3,
   "metadata": {
    "scrolled": true
   },
   "outputs": [
    {
     "name": "stdout",
     "output_type": "stream",
     "text": [
      "Hello Capstone Project Course!\n"
     ]
    }
   ],
   "source": [
    "print('Hello Capstone Project Course!')"
   ]
  },
  {
   "cell_type": "markdown",
   "metadata": {},
   "source": [
    "<center><h1> ... </h1></center>"
   ]
  }
 ],
 "metadata": {
  "kernelspec": {
   "display_name": "Python 3",
   "language": "python",
   "name": "python3"
  },
  "language_info": {
   "codemirror_mode": {
    "name": "ipython",
    "version": 3
   },
   "file_extension": ".py",
   "mimetype": "text/x-python",
   "name": "python",
   "nbconvert_exporter": "python",
   "pygments_lexer": "ipython3",
   "version": "3.8.5"
  }
 },
 "nbformat": 4,
 "nbformat_minor": 4
}
